{
 "cells": [
  {
   "cell_type": "code",
   "execution_count": 17,
   "id": "3162f530",
   "metadata": {},
   "outputs": [],
   "source": [
    "import os\n",
    "import django\n",
    "os.environ.setdefault('DJANGO_SETTINGS_MODULE', 'rest.settings')\n",
    "os.environ[\"DJANGO_ALLOW_ASYNC_UNSAFE\"] = \"true\"\n",
    "django.setup()"
   ]
  },
  {
   "cell_type": "code",
   "execution_count": 18,
   "id": "2d1d64f9",
   "metadata": {},
   "outputs": [],
   "source": [
    "from games.fantasy_services import get_9_cat\n",
    "from games.models import RawGameLog\n",
    "import datetime\n",
    "import pandas as pd\n",
    "import matplotlib.pyplot as plt\n",
    "import numpy as np\n",
    "from sklearn.svm import SVR\n",
    "from sklearn import preprocessing\n"
   ]
  },
  {
   "cell_type": "code",
   "execution_count": 101,
   "id": "9f84f6d9",
   "metadata": {},
   "outputs": [],
   "source": [
    "games = RawGameLog.objects.filter(player_name=\"Jalen Williams\", season_year__lt=\"2023-2024\")\n",
    "games_df = get_9_cat(games).sort_values(by=['game_date']).reset_index()\n",
    "\n",
    "X = games_df.index.to_numpy().reshape((-1, 1))\n",
    "x_scaler = preprocessing.StandardScaler().fit(X)\n",
    "X_scaled = x_scaler.transform(X)"
   ]
  },
  {
   "cell_type": "code",
   "execution_count": 120,
   "id": "5fbc6e73",
   "metadata": {},
   "outputs": [
    {
     "name": "stdout",
     "output_type": "stream",
     "text": [
      "youth_multiplier = 4\n",
      "pts\t career_avg = 14.08\t 2024: [16.42003773]\n",
      "fg3m\t career_avg = 0.97\t 2024: [1.05816772]\n",
      "reb\t career_avg = 4.49\t 2024: [4.63641403]\n",
      "ast\t career_avg = 3.31\t 2024: [4.8643971]\n",
      "stl\t career_avg = 1.37\t 2024: [1.53180514]\n",
      "blk\t career_avg = 0.47\t 2024: [0.10047371]\n",
      "fgm\t career_avg = 5.52\t 2024: [9.28097664]\n",
      "fga\t career_avg = 10.59\t 2024: [12.56127263]\n",
      "ftm\t career_avg = 2.07\t 2024: [4.45937686]\n",
      "fta\t career_avg = 2.55\t 2024: [3.3869091]\n",
      "tov\t career_avg = 1.64\t 2024: [2.03010322]\n"
     ]
    }
   ],
   "source": [
    "svr = SVR(kernel='rbf', C=1, gamma=0.3)\n",
    "test_game = [X_scaled[-1] + (X_scaled[-1] - X_scaled[-2])]\n",
    "projections_9cat = []\n",
    "youth_multiplier = max(min(4, 320/len(X)), 1)\n",
    "print(f'youth_multiplier = {youth_multiplier}')\n",
    "\n",
    "for cat in ['pts', 'fg3m', 'reb', 'ast', 'stl', 'blk', 'fgm', 'fga', 'ftm', 'fta', 'tov']:\n",
    "    y = games_df[cat].to_numpy()\n",
    "    svr.fit(X_scaled, y)\n",
    "    projection = svr.predict(test_game)\n",
    "    if len(X) < 500 and len(X) > 50:\n",
    "        past_75_avg = np.average(y[-50:])\n",
    "        if (projection - past_75_avg) > 0 and cat != 'tov':\n",
    "            projection = past_75_avg * (1 + ((projection-past_75_avg)*youth_multiplier)/past_75_avg)\n",
    "    projections_9cat.append(projection)\n",
    "    print(f'{cat}\\t career_avg = {np.average(y):.2f}\\t 2024: {projection}')"
   ]
  },
  {
   "cell_type": "code",
   "execution_count": 119,
   "id": "8342564d",
   "metadata": {},
   "outputs": [
    {
     "data": {
      "image/png": "[encoded data removed]",
      "text/plain": [
       "<Figure size 640x480 with 1 Axes>"
      ]
     },
     "metadata": {},
     "output_type": "display_data"
    }
   ],
   "source": [
    "svr = SVR(kernel='rbf', C=1, gamma=.3)\n",
    "test_game = [X_scaled[-1] + (X_scaled[-1] - X_scaled[-2])]\n",
    "y = games_df['pts']\n",
    "svr.fit(X_scaled, y)\n",
    "svr_pred = svr.predict(X_scaled)\n",
    "projection = svr.predict(test_game)\n",
    "\n",
    "plt.scatter(X_scaled, y, color='darkorange', \n",
    "            label='data') \n",
    "plt.plot(X_scaled, svr_pred, color='cornflowerblue', \n",
    "         label='svr')\n",
    "plt.plot(test_game, projection, 'ro')\n",
    "plt.legend() \n",
    "plt.show() "
   ]
  },
  {
   "cell_type": "code",
   "execution_count": null,
   "id": "06dd309d",
   "metadata": {},
   "outputs": [],
   "source": []
  }
 ],
 "metadata": {
  "kernelspec": {
   "display_name": "Django Shell-Plus",
   "language": "python",
   "name": "django_extensions"
  },
  "language_info": {
   "codemirror_mode": {
    "name": "ipython",
    "version": 3
   },
   "file_extension": ".py",
   "mimetype": "text/x-python",
   "name": "python",
   "nbconvert_exporter": "python",
   "pygments_lexer": "ipython3",
   "version": "3.11.6"
  }
 },
 "nbformat": 4,
 "nbformat_minor": 5
}
